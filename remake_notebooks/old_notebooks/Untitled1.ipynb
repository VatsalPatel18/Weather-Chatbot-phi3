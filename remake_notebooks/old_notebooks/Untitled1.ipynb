{
 "cells": [
  {
   "cell_type": "code",
   "execution_count": 1,
   "id": "a70fa2af-08b2-4c63-8315-bb127f9dba07",
   "metadata": {},
   "outputs": [
    {
     "name": "stderr",
     "output_type": "stream",
     "text": [
      "/home/vatsal-patel/anaconda3/envs/unsloth_env/lib/python3.10/site-packages/tqdm/auto.py:21: TqdmWarning: IProgress not found. Please update jupyter and ipywidgets. See https://ipywidgets.readthedocs.io/en/stable/user_install.html\n",
      "  from .autonotebook import tqdm as notebook_tqdm\n",
      "\u001b[33;1m======== New task ========\u001b[0m\n",
      "\u001b[37;1mWhat's the weather like in London today?\u001b[0m\n",
      "\n",
      "KeyboardInterrupt\n",
      "\n"
     ]
    }
   ],
   "source": [
    "from transformers import Tool, load_tool, ReactCodeAgent, HfEngine\n",
    "import requests\n",
    "import time\n",
    "\n",
    "class WeatherTool(Tool):\n",
    "    name = \"weather_api\"\n",
    "    description = \"Retrieves weather information for a specific city.\"\n",
    "    inputs = {\n",
    "        \"city\": {\n",
    "            \"type\": \"string\",\n",
    "            \"description\": \"The name of the city to get weather information for.\"\n",
    "        },\n",
    "        \"forecast_type\": {\n",
    "            \"type\": \"string\",\n",
    "            \"description\": \"Either 'current' for current weather or 'forecast' for future weather.\"\n",
    "        }\n",
    "    }\n",
    "    output_type = \"text\"\n",
    "\n",
    "    def __init__(self, api_key):\n",
    "        super().__init__()\n",
    "        self.api_key = api_key\n",
    "\n",
    "    def __call__(self, city: str, forecast_type: str = \"current\") -> str:\n",
    "        base_url = \"http://api.openweathermap.org/data/2.5\"\n",
    "        \n",
    "        if forecast_type == \"current\":\n",
    "            endpoint = f\"{base_url}/weather\"\n",
    "        else:\n",
    "            endpoint = f\"{base_url}/forecast\"\n",
    "        \n",
    "        params = {\n",
    "            \"q\": city,\n",
    "            \"appid\": self.api_key,\n",
    "            \"units\": \"metric\"\n",
    "        }\n",
    "        \n",
    "        response = requests.get(endpoint, params=params)\n",
    "        \n",
    "        if response.status_code == 200:\n",
    "            data = response.json()\n",
    "            if forecast_type == \"current\":\n",
    "                temp = data['main']['temp']\n",
    "                description = data['weather'][0]['description']\n",
    "                return f\"The current weather in {city} is {description} with a temperature of {temp}°C.\"\n",
    "            else:\n",
    "                forecast = data['list'][0]  # Get the first forecast entry\n",
    "                temp = forecast['main']['temp']\n",
    "                description = forecast['weather'][0]['description']\n",
    "                date_time = forecast['dt_txt']\n",
    "                return f\"The forecast for {city} on {date_time} is {description} with a temperature of {temp}°C.\"\n",
    "        else:\n",
    "            return f\"Error: Unable to fetch weather data for {city}. Status code: {response.status_code}\"\n",
    "\n",
    "# Initialize the WeatherTool\n",
    "api_key = 'c6dfc4d92a8f972d237ef696ec87b37a'\n",
    "weather_tool = WeatherTool(api_key)\n",
    "\n",
    "# Initialize the LLM engine with retry logic\n",
    "def initialize_llm_engine(model_name, max_retries=5, wait_time=30):\n",
    "    retries = 0\n",
    "    while retries < max_retries:\n",
    "        try:\n",
    "            llm_engine = HfEngine(model_name)\n",
    "            return llm_engine\n",
    "        except Exception as e:\n",
    "            print(f\"Error initializing LLM engine: {e}\")\n",
    "            print(f\"Retrying in {wait_time} seconds...\")\n",
    "            time.sleep(wait_time)\n",
    "            retries += 1\n",
    "    raise Exception(\"Failed to initialize LLM engine after multiple attempts.\")\n",
    "\n",
    "llm_engine = initialize_llm_engine(\"../models/unsloth/Phi-3-mini-4k-instruct/\")\n",
    "\n",
    "# Initialize the agent with the weather tool\n",
    "agent = ReactCodeAgent(tools=[weather_tool], llm_engine=llm_engine)\n",
    "\n",
    "# Run it!\n",
    "result = agent.run(\n",
    "    \"What's the weather like in London today?\",\n",
    ")\n",
    "print(result)\n"
   ]
  },
  {
   "cell_type": "code",
   "execution_count": 3,
   "id": "5403b3d8-9434-4006-adf2-420eb35baa88",
   "metadata": {},
   "outputs": [
    {
     "name": "stdout",
     "output_type": "stream",
     "text": [
      "The current weather in Kalyani is overcast clouds with a temperature of 28.95°C.\n",
      "The forecast for London on 2024-06-27 21:00:00 is broken clouds with a temperature of 18.46°C.\n"
     ]
    }
   ],
   "source": [
    "# Initialize the WeatherTool\n",
    "api_key = 'c6dfc4d92a8f972d237ef696ec87b37a'\n",
    "weather_tool = WeatherTool(api_key)\n",
    "\n",
    "# Test the WeatherTool independently\n",
    "print(weather_tool(\"Kalyani\", \"current\"))\n",
    "print(weather_tool(\"London\", \"forecast\"))\n"
   ]
  },
  {
   "cell_type": "code",
   "execution_count": 4,
   "id": "f8f35d00-38e4-413d-8f26-99473c1cf52b",
   "metadata": {
    "scrolled": true
   },
   "outputs": [
    {
     "name": "stderr",
     "output_type": "stream",
     "text": [
      "Loading checkpoint shards: 100%|████████████████████████████████████████████████████████████████████████████████████████████████████████████████████████████████| 2/2 [00:07<00:00,  3.84s/it]\n",
      "Special tokens have been added in the vocabulary, make sure the associated word embeddings are fine-tuned or trained.\n",
      "Truncation was not explicitly activated but `max_length` is provided a specific value, please use `truncation=True` to explicitly truncate examples to max length. Defaulting to 'longest_first' truncation strategy. If you encode pairs of sequences (GLUE-style) with the tokenizer you can select this strategy more precisely by providing a specific strategy to `truncation`.\n",
      "\n",
      "KeyboardInterrupt\n",
      "\n"
     ]
    }
   ],
   "source": [
    "from transformers import AutoModelForCausalLM, AutoTokenizer, pipeline\n",
    "\n",
    "# Load the model and tokenizer locally\n",
    "model_name = \"../models/unsloth/Phi-3-mini-4k-instruct/\"\n",
    "model = AutoModelForCausalLM.from_pretrained(model_name)\n",
    "tokenizer = AutoTokenizer.from_pretrained(model_name)\n",
    "\n",
    "# Create a pipeline for text generation\n",
    "text_gen_pipeline = pipeline(\"text-generation\", model=model, tokenizer=tokenizer)\n",
    "\n",
    "# Test the pipeline\n",
    "# prompt = \"What's the weather like in London today?\"\n",
    "prompt = \"Tell me a joke?\"\n",
    "result = text_gen_pipeline(prompt, max_length=100)\n",
    "print(result)\n"
   ]
  },
  {
   "cell_type": "code",
   "execution_count": 6,
   "id": "e6366c30-9250-4972-9fc1-80996a3c2241",
   "metadata": {},
   "outputs": [
    {
     "name": "stdout",
     "output_type": "stream",
     "text": [
      "1_Data-Generation-OpenWeather-API-Copy1.ipynb\tdata\n",
      "1_Data-Generation-OpenWeather-API.ipynb\t\tllama.cpp\n",
      "2_Model_Train_Phi3_Mini_4k_iunsloth_Copy.ipynb\tlogs\n",
      "2_Model-Train-Phi3-Mini-4k-iunsloth.ipynb\toutputs_combined\n",
      "3_Inference_Pipeline_Setup.ipynb\t\t_unsloth_sentencepiece_temp\n",
      "4_Inference_with_llama_cpp.ipynb\t\tUntitled1.ipynb\n",
      "5_ZeroShot_inference.ipynb\n"
     ]
    }
   ],
   "source": [
    "!ls"
   ]
  },
  {
   "cell_type": "code",
   "execution_count": null,
   "id": "c01c1239-ebe5-42fd-8592-6baae030585e",
   "metadata": {},
   "outputs": [],
   "source": []
  }
 ],
 "metadata": {
  "kernelspec": {
   "display_name": "Python (Unsloth)",
   "language": "python",
   "name": "unsloth_env"
  },
  "language_info": {
   "codemirror_mode": {
    "name": "ipython",
    "version": 3
   },
   "file_extension": ".py",
   "mimetype": "text/x-python",
   "name": "python",
   "nbconvert_exporter": "python",
   "pygments_lexer": "ipython3",
   "version": "3.10.14"
  }
 },
 "nbformat": 4,
 "nbformat_minor": 5
}
