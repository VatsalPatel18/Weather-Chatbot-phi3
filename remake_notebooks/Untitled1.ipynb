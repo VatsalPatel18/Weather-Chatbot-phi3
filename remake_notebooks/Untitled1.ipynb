{
 "cells": [
  {
   "cell_type": "code",
   "execution_count": 1,
   "id": "70286cd1-686f-4061-8af7-330b9507b0b8",
   "metadata": {},
   "outputs": [],
   "source": [
    "import requests\n",
    "from collections import defaultdict\n",
    "from datetime import datetime, timedelta\n"
   ]
  },
  {
   "cell_type": "code",
   "execution_count": 2,
   "id": "f59d31e5-2ee7-49f4-aeaf-40848f571da1",
   "metadata": {},
   "outputs": [],
   "source": [
    "api_key = \"c6dfc4d92a8f972d237ef696ec87b37a\" "
   ]
  },
  {
   "cell_type": "code",
   "execution_count": 3,
   "id": "1e5a2ff9-48a4-4d9e-aa3c-56b2c9860199",
   "metadata": {},
   "outputs": [],
   "source": [
    "\n",
    "def get_forecast(city):\n",
    "    \"\"\"Fetches 5-day weather forecast for a city using OpenWeatherMap API.\"\"\"\n",
    "    url_forecast = f\"http://api.openweathermap.org/data/2.5/forecast?q={city}&appid={api_key}&units=metric\"\n",
    "    response_forecast = requests.get(url_forecast)\n",
    "    if response_forecast.status_code != 200:\n",
    "        return \"Error: Could not fetch forecast data.\"\n",
    "    forecast_json = response_forecast.json()\n",
    "    return restructure_forecast(forecast_json)\n",
    "\n",
    "def restructure_forecast(forecast_json):\n",
    "    \"\"\"Restructures the forecast JSON data into a nested dictionary by date and time.\"\"\"\n",
    "    structured_data = defaultdict(dict)\n",
    "    for entry in forecast_json['list']:\n",
    "        date, time = entry['dt_txt'].split()\n",
    "        structured_data[date][time] = {\n",
    "            'temperature': entry['main']['temp'],\n",
    "            'feels_like': entry['main']['feels_like'],\n",
    "            'temp_min': entry['main']['temp_min'],\n",
    "            'temp_max': entry['main']['temp_max'],\n",
    "            'pressure': entry['main']['pressure'],\n",
    "            'humidity': entry['main']['humidity'],\n",
    "            'weather': entry['weather'][0]['description'],\n",
    "            'icon': entry['weather'][0]['icon'],\n",
    "            'wind_speed': entry['wind']['speed'],\n",
    "            'wind_deg': entry['wind']['deg'],\n",
    "            'visibility': entry['visibility'],\n",
    "            'pop': entry['pop'],\n",
    "            'rain': entry.get('rain', {}).get('3h', 0),\n",
    "            'clouds': entry['clouds']['all']\n",
    "        }\n",
    "    return structured_data\n"
   ]
  },
  {
   "cell_type": "code",
   "execution_count": 4,
   "id": "338ca0ae-dadc-4c0e-b0d3-6407332f3851",
   "metadata": {},
   "outputs": [
    {
     "name": "stdout",
     "output_type": "stream",
     "text": [
      "Forecast for 2024-07-03 at 09:00:00:\n",
      "Temperature: 14.97°C\n",
      "Feels like: 14.35°C\n",
      "Weather: light rain\n",
      "Humidity: 70%\n",
      "Wind: 4.82 m/s, 208°\n",
      "Visibility: 10000 meters\n",
      "Probability of precipitation: 22.0%\n",
      "Rain: 0.12 mm\n",
      "Clouds: 97%\n"
     ]
    }
   ],
   "source": [
    "def get_specific_forecast(forecast_data, query):\n",
    "    \"\"\"\n",
    "    Extracts specific forecast information based on user queries.\n",
    "    \n",
    "    Args:\n",
    "    forecast_data (dict): The structured forecast data.\n",
    "    query (str): The user's query.\n",
    "    \n",
    "    Returns:\n",
    "    str: The relevant forecast information.\n",
    "    \"\"\"\n",
    "    today = datetime.today()\n",
    "    query = query.lower()\n",
    "\n",
    "    if 'tomorrow' in query:\n",
    "        target_date = (today + timedelta(days=1)).strftime('%Y-%m-%d')\n",
    "    elif 'day after tomorrow' in query:\n",
    "        target_date = (today + timedelta(days=2)).strftime('%Y-%m-%d')\n",
    "    else:\n",
    "        # Extract specific date if mentioned in the query\n",
    "        try:\n",
    "            target_date = datetime.strptime(query.split()[-1], '%Y-%m-%d').strftime('%Y-%m-%d')\n",
    "        except ValueError:\n",
    "            # Default to today's date if no specific date is mentioned\n",
    "            target_date = today.strftime('%Y-%m-%d')\n",
    "\n",
    "    if 'morning' in query:\n",
    "        target_time = '09:00:00'\n",
    "    elif 'afternoon' in query:\n",
    "        target_time = '15:00:00'\n",
    "    elif 'evening' in query:\n",
    "        target_time = '18:00:00'\n",
    "    elif 'night' in query:\n",
    "        target_time = '21:00:00'\n",
    "    else:\n",
    "        # Default to the next available time if no specific time is mentioned\n",
    "        target_time = '12:00:00'\n",
    "\n",
    "    if target_date in forecast_data:\n",
    "        if target_time in forecast_data[target_date]:\n",
    "            forecast = forecast_data[target_date][target_time]\n",
    "            return (f\"Forecast for {target_date} at {target_time}:\\n\"\n",
    "                    f\"Temperature: {forecast['temperature']}°C\\n\"\n",
    "                    f\"Feels like: {forecast['feels_like']}°C\\n\"\n",
    "                    f\"Weather: {forecast['weather']}\\n\"\n",
    "                    f\"Humidity: {forecast['humidity']}%\\n\"\n",
    "                    f\"Wind: {forecast['wind_speed']} m/s, {forecast['wind_deg']}°\\n\"\n",
    "                    f\"Visibility: {forecast['visibility']} meters\\n\"\n",
    "                    f\"Probability of precipitation: {forecast['pop']*100}%\\n\"\n",
    "                    f\"Rain: {forecast['rain']} mm\\n\"\n",
    "                    f\"Clouds: {forecast['clouds']}%\")\n",
    "        else:\n",
    "            return f\"No forecast data available for {target_date} at {target_time}.\"\n",
    "    else:\n",
    "        return f\"No forecast data available for {target_date}.\"\n",
    "\n",
    "# Example Usage\n",
    "city = \"London\"\n",
    "forecast_data = get_forecast(city)\n",
    "if isinstance(forecast_data, dict):\n",
    "    query = \"What's the weather like tomorrow morning?\"\n",
    "    print(get_specific_forecast(forecast_data, query))\n",
    "else:\n",
    "    print(forecast_data)\n"
   ]
  },
  {
   "cell_type": "code",
   "execution_count": null,
   "id": "8be2eda5-5b3d-4cbb-9ca0-b52ae7c77f67",
   "metadata": {},
   "outputs": [],
   "source": []
  }
 ],
 "metadata": {
  "kernelspec": {
   "display_name": "Python (Unsloth)",
   "language": "python",
   "name": "unsloth_env"
  },
  "language_info": {
   "codemirror_mode": {
    "name": "ipython",
    "version": 3
   },
   "file_extension": ".py",
   "mimetype": "text/x-python",
   "name": "python",
   "nbconvert_exporter": "python",
   "pygments_lexer": "ipython3",
   "version": "3.10.14"
  }
 },
 "nbformat": 4,
 "nbformat_minor": 5
}
