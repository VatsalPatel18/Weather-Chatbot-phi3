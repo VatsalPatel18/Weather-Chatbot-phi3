{
 "cells": [
  {
   "cell_type": "code",
   "execution_count": 1,
   "id": "e8b199c5-a0cf-4ac2-9622-73857ffcf372",
   "metadata": {},
   "outputs": [],
   "source": [
    "import requests\n",
    "from collections import defaultdict\n",
    "from datetime import datetime, timedelta\n",
    "from langchain.agents import Tool\n",
    "from langchain.llms import LlamaCpp \n",
    "from langchain.agents import initialize_agent\n",
    "import json\n",
    "api_key = \"c6dfc4d92a8f972d237ef696ec87b37a\""
   ]
  },
  {
   "cell_type": "code",
   "execution_count": 2,
   "id": "95449b36-7393-4884-9d43-eab59d98221c",
   "metadata": {},
   "outputs": [],
   "source": [
    "def get_weather_info(city):\n",
    "    \"\"\"Fetches current weather information for a city using OpenWeatherMap API.\"\"\"\n",
    "    \n",
    "    url_current = f\"http://api.openweathermap.org/data/2.5/weather?q={city}&appid={api_key}&units=metric\"\n",
    "    response_current = requests.get(url_current)\n",
    "    if response_current.status_code != 200:\n",
    "        return \"Error: Could not fetch weather data.\"\n",
    "    data_current = response_current.json()\n",
    "\n",
    "    response = {\n",
    "        'coordinates': data_current['coord'],\n",
    "        'weather': data_current['weather'][0],\n",
    "        'temperature': {\n",
    "            'current': data_current['main']['temp'],\n",
    "            'feels_like': data_current['main']['feels_like'],\n",
    "            'min': data_current['main']['temp_min'],\n",
    "            'max': data_current['main']['temp_max']\n",
    "        },\n",
    "        'pressure': {\n",
    "            'sea_level': data_current['main'].get('sea_level', data_current['main']['pressure']),\n",
    "            'ground_level': data_current['main'].get('grnd_level', data_current['main']['pressure'])\n",
    "        },\n",
    "        'humidity': data_current['main']['humidity'],\n",
    "        'visibility': data_current['visibility'],\n",
    "        'wind': data_current['wind'],\n",
    "        'clouds': data_current['clouds'],\n",
    "        'rain': data_current.get('rain', {}),\n",
    "        'dt': data_current['dt'],\n",
    "        'sys': data_current['sys'],\n",
    "        'timezone': data_current['timezone'],\n",
    "        'id': data_current['id'],\n",
    "        'name': data_current['name'],\n",
    "        'cod': data_current['cod']\n",
    "    }\n",
    "\n",
    "    return json.dumps(response, indent=2)"
   ]
  },
  {
   "cell_type": "code",
   "execution_count": 3,
   "id": "bfd5d82a-84ba-4596-9dd5-7217089b133b",
   "metadata": {},
   "outputs": [],
   "source": [
    "def get_forecast(city):\n",
    "    \"\"\"Fetches 5-day weather forecast for a city using OpenWeatherMap API.\"\"\"\n",
    "    url_forecast = f\"http://api.openweathermap.org/data/2.5/forecast?q={city}&appid={api_key}&units=metric\"\n",
    "    response_forecast = requests.get(url_forecast)\n",
    "    if response_forecast.status_code != 200:\n",
    "        return \"Error: Could not fetch forecast data.\"\n",
    "    forecast_json = response_forecast.json()\n",
    "    \n",
    "    return restructure_forecast(forecast_json)"
   ]
  },
  {
   "cell_type": "code",
   "execution_count": 4,
   "id": "c398a87b-f427-43f2-9077-6abaa0719b50",
   "metadata": {},
   "outputs": [],
   "source": [
    "def restructure_forecast(forecast_json):\n",
    "    \"\"\"Restructures the forecast JSON data into a nested dictionary by date and time, excluding the current date.\"\"\"\n",
    "    current_date = datetime.now().date()\n",
    "    next_date = current_date + timedelta(days=1)\n",
    "\n",
    "    structured_data = defaultdict(dict)\n",
    "    \n",
    "    for entry in forecast_json['list']:\n",
    "        date, time = entry['dt_txt'].split()\n",
    "        if date != str(current_date):\n",
    "            structured_data[date][time] = {\n",
    "                'temperature': entry['main']['temp'],\n",
    "                'feels_like': entry['main']['feels_like'],\n",
    "                'temp_min': entry['main']['temp_min'],\n",
    "                'temp_max': entry['main']['temp_max'],\n",
    "                'pressure': entry['main']['pressure'],\n",
    "                'humidity': entry['main']['humidity'],\n",
    "                'weather': entry['weather'][0]['description'],\n",
    "                'icon': entry['weather'][0]['icon'],\n",
    "                'wind_speed': entry['wind']['speed'],\n",
    "                'wind_deg': entry['wind']['deg'],\n",
    "                'visibility': entry['visibility'],\n",
    "                'pop': entry['pop'],\n",
    "                'rain': entry['rain']['3h'] if 'rain' in entry else 0,\n",
    "                'clouds': entry['clouds']['all']\n",
    "            }\n",
    "    \n",
    "    # Only return data for the next date\n",
    "    return {str(next_date): structured_data[str(next_date)]}"
   ]
  },
  {
   "cell_type": "code",
   "execution_count": 5,
   "id": "b8e856a2-d670-4bff-b210-2114e1e18a3b",
   "metadata": {},
   "outputs": [
    {
     "name": "stdout",
     "output_type": "stream",
     "text": [
      "{'2024-07-05': {'00:00:00': {'temperature': 12.86, 'feels_like': 12.21, 'temp_min': 12.86, 'temp_max': 12.86, 'pressure': 1011, 'humidity': 77, 'weather': 'scattered clouds', 'icon': '03n', 'wind_speed': 4.81, 'wind_deg': 240, 'visibility': 10000, 'pop': 0, 'rain': 0, 'clouds': 49}, '03:00:00': {'temperature': 12.4, 'feels_like': 11.78, 'temp_min': 12.4, 'temp_max': 12.4, 'pressure': 1011, 'humidity': 80, 'weather': 'broken clouds', 'icon': '04n', 'wind_speed': 3.5, 'wind_deg': 234, 'visibility': 10000, 'pop': 0, 'rain': 0, 'clouds': 70}, '06:00:00': {'temperature': 12.5, 'feels_like': 12.23, 'temp_min': 12.5, 'temp_max': 12.5, 'pressure': 1009, 'humidity': 93, 'weather': 'light rain', 'icon': '10d', 'wind_speed': 2.14, 'wind_deg': 183, 'visibility': 10000, 'pop': 0.57, 'rain': 0.77, 'clouds': 85}, '09:00:00': {'temperature': 15.13, 'feels_like': 15.21, 'temp_min': 15.13, 'temp_max': 15.13, 'pressure': 1008, 'humidity': 96, 'weather': 'light rain', 'icon': '10d', 'wind_speed': 4.03, 'wind_deg': 238, 'visibility': 10000, 'pop': 0.94, 'rain': 2.57, 'clouds': 100}, '12:00:00': {'temperature': 17.33, 'feels_like': 17.47, 'temp_min': 17.33, 'temp_max': 17.33, 'pressure': 1007, 'humidity': 90, 'weather': 'light rain', 'icon': '10d', 'wind_speed': 5.61, 'wind_deg': 235, 'visibility': 9397, 'pop': 1, 'rain': 1.31, 'clouds': 100}, '15:00:00': {'temperature': 19.6, 'feels_like': 19.76, 'temp_min': 19.6, 'temp_max': 19.6, 'pressure': 1006, 'humidity': 82, 'weather': 'light rain', 'icon': '10d', 'wind_speed': 7.14, 'wind_deg': 227, 'visibility': 10000, 'pop': 0.88, 'rain': 1.67, 'clouds': 100}, '18:00:00': {'temperature': 18.19, 'feels_like': 18.26, 'temp_min': 18.19, 'temp_max': 18.19, 'pressure': 1005, 'humidity': 84, 'weather': 'light rain', 'icon': '10d', 'wind_speed': 6.13, 'wind_deg': 227, 'visibility': 10000, 'pop': 0.83, 'rain': 0.75, 'clouds': 99}, '21:00:00': {'temperature': 16.6, 'feels_like': 16.67, 'temp_min': 16.6, 'temp_max': 16.6, 'pressure': 1004, 'humidity': 90, 'weather': 'moderate rain', 'icon': '10n', 'wind_speed': 5.17, 'wind_deg': 228, 'visibility': 10000, 'pop': 0.54, 'rain': 3.25, 'clouds': 100}}}\n"
     ]
    }
   ],
   "source": [
    "city = \"London\"\n",
    "forecast = get_forecast(city)\n",
    "print(forecast)"
   ]
  },
  {
   "cell_type": "code",
   "execution_count": 6,
   "id": "e81a1438-40a9-4ddf-94bf-017c2cc3e64e",
   "metadata": {},
   "outputs": [],
   "source": [
    "# Weather Tool\n",
    "weather_tool = Tool(\n",
    "    name=\"WeatherLookup\",\n",
    "    func=get_weather_info,\n",
    "    description=\"Useful to get the current weather (Today) information for a city. It includes information on temperature, pressure, humidity, wind, clouds and rain.\"\n",
    ")\n",
    "\n",
    "# Forecast Tool\n",
    "forecast_tool = Tool(\n",
    "    name=\"ForecastLookup\",\n",
    "    func=lambda city: get_forecast(city),\n",
    "    description=\"Useful to get the weather forecast for the next day (Tommorow) for a city.It includes information on temperature, pressure, humidity, wind, clouds and rain.\"\n",
    ")"
   ]
  },
  {
   "cell_type": "code",
   "execution_count": 7,
   "id": "0eede6c0-cf54-4001-9774-140e1f16ceac",
   "metadata": {},
   "outputs": [
    {
     "name": "stderr",
     "output_type": "stream",
     "text": [
      "llama_model_loader: loaded meta data with 24 key-value pairs and 195 tensors from ../models/Phi-3-mini-4k-instruct-gguf/Phi-3-mini-4k-instruct-q4.gguf (version GGUF V3 (latest))\n",
      "llama_model_loader: Dumping metadata keys/values. Note: KV overrides do not apply in this output.\n",
      "llama_model_loader: - kv   0:                       general.architecture str              = phi3\n",
      "llama_model_loader: - kv   1:                               general.name str              = Phi3\n",
      "llama_model_loader: - kv   2:                        phi3.context_length u32              = 4096\n",
      "llama_model_loader: - kv   3:                      phi3.embedding_length u32              = 3072\n",
      "llama_model_loader: - kv   4:                   phi3.feed_forward_length u32              = 8192\n",
      "llama_model_loader: - kv   5:                           phi3.block_count u32              = 32\n",
      "llama_model_loader: - kv   6:                  phi3.attention.head_count u32              = 32\n",
      "llama_model_loader: - kv   7:               phi3.attention.head_count_kv u32              = 32\n",
      "llama_model_loader: - kv   8:      phi3.attention.layer_norm_rms_epsilon f32              = 0.000010\n",
      "llama_model_loader: - kv   9:                  phi3.rope.dimension_count u32              = 96\n",
      "llama_model_loader: - kv  10:                          general.file_type u32              = 15\n",
      "llama_model_loader: - kv  11:                       tokenizer.ggml.model str              = llama\n",
      "llama_model_loader: - kv  12:                         tokenizer.ggml.pre str              = default\n",
      "llama_model_loader: - kv  13:                      tokenizer.ggml.tokens arr[str,32064]   = [\"<unk>\", \"<s>\", \"</s>\", \"<0x00>\", \"<...\n",
      "llama_model_loader: - kv  14:                      tokenizer.ggml.scores arr[f32,32064]   = [0.000000, 0.000000, 0.000000, 0.0000...\n",
      "llama_model_loader: - kv  15:                  tokenizer.ggml.token_type arr[i32,32064]   = [2, 3, 3, 6, 6, 6, 6, 6, 6, 6, 6, 6, ...\n",
      "llama_model_loader: - kv  16:                tokenizer.ggml.bos_token_id u32              = 1\n",
      "llama_model_loader: - kv  17:                tokenizer.ggml.eos_token_id u32              = 32000\n",
      "llama_model_loader: - kv  18:            tokenizer.ggml.unknown_token_id u32              = 0\n",
      "llama_model_loader: - kv  19:            tokenizer.ggml.padding_token_id u32              = 32000\n",
      "llama_model_loader: - kv  20:               tokenizer.ggml.add_bos_token bool             = true\n",
      "llama_model_loader: - kv  21:               tokenizer.ggml.add_eos_token bool             = false\n",
      "llama_model_loader: - kv  22:                    tokenizer.chat_template str              = {{ bos_token }}{% for message in mess...\n",
      "llama_model_loader: - kv  23:               general.quantization_version u32              = 2\n",
      "llama_model_loader: - type  f32:   65 tensors\n",
      "llama_model_loader: - type q4_K:   81 tensors\n",
      "llama_model_loader: - type q5_K:   32 tensors\n",
      "llama_model_loader: - type q6_K:   17 tensors\n",
      "llm_load_vocab: special tokens cache size = 323\n",
      "llm_load_vocab: token to piece cache size = 0.1687 MB\n",
      "llm_load_print_meta: format           = GGUF V3 (latest)\n",
      "llm_load_print_meta: arch             = phi3\n",
      "llm_load_print_meta: vocab type       = SPM\n",
      "llm_load_print_meta: n_vocab          = 32064\n",
      "llm_load_print_meta: n_merges         = 0\n",
      "llm_load_print_meta: n_ctx_train      = 4096\n",
      "llm_load_print_meta: n_embd           = 3072\n",
      "llm_load_print_meta: n_head           = 32\n",
      "llm_load_print_meta: n_head_kv        = 32\n",
      "llm_load_print_meta: n_layer          = 32\n",
      "llm_load_print_meta: n_rot            = 96\n",
      "llm_load_print_meta: n_embd_head_k    = 96\n",
      "llm_load_print_meta: n_embd_head_v    = 96\n",
      "llm_load_print_meta: n_gqa            = 1\n",
      "llm_load_print_meta: n_embd_k_gqa     = 3072\n",
      "llm_load_print_meta: n_embd_v_gqa     = 3072\n",
      "llm_load_print_meta: f_norm_eps       = 0.0e+00\n",
      "llm_load_print_meta: f_norm_rms_eps   = 1.0e-05\n",
      "llm_load_print_meta: f_clamp_kqv      = 0.0e+00\n",
      "llm_load_print_meta: f_max_alibi_bias = 0.0e+00\n",
      "llm_load_print_meta: f_logit_scale    = 0.0e+00\n",
      "llm_load_print_meta: n_ff             = 8192\n",
      "llm_load_print_meta: n_expert         = 0\n",
      "llm_load_print_meta: n_expert_used    = 0\n",
      "llm_load_print_meta: causal attn      = 1\n",
      "llm_load_print_meta: pooling type     = 0\n",
      "llm_load_print_meta: rope type        = 2\n",
      "llm_load_print_meta: rope scaling     = linear\n",
      "llm_load_print_meta: freq_base_train  = 10000.0\n",
      "llm_load_print_meta: freq_scale_train = 1\n",
      "llm_load_print_meta: n_ctx_orig_yarn  = 4096\n",
      "llm_load_print_meta: rope_finetuned   = unknown\n",
      "llm_load_print_meta: ssm_d_conv       = 0\n",
      "llm_load_print_meta: ssm_d_inner      = 0\n",
      "llm_load_print_meta: ssm_d_state      = 0\n",
      "llm_load_print_meta: ssm_dt_rank      = 0\n",
      "llm_load_print_meta: model type       = 3B\n",
      "llm_load_print_meta: model ftype      = Q4_K - Medium\n",
      "llm_load_print_meta: model params     = 3.82 B\n",
      "llm_load_print_meta: model size       = 2.23 GiB (5.01 BPW) \n",
      "llm_load_print_meta: general.name     = Phi3\n",
      "llm_load_print_meta: BOS token        = 1 '<s>'\n",
      "llm_load_print_meta: EOS token        = 32000 '<|endoftext|>'\n",
      "llm_load_print_meta: UNK token        = 0 '<unk>'\n",
      "llm_load_print_meta: PAD token        = 32000 '<|endoftext|>'\n",
      "llm_load_print_meta: LF token         = 13 '<0x0A>'\n",
      "llm_load_print_meta: EOT token        = 32007 '<|end|>'\n",
      "llm_load_tensors: ggml ctx size =    0.11 MiB\n",
      "llm_load_tensors:        CPU buffer size =  2281.66 MiB\n",
      "...........................................................................................\n",
      "llama_new_context_with_model: n_batch is less than GGML_KQ_MASK_PAD - increasing to 32\n",
      "llama_new_context_with_model: n_ctx      = 4096\n",
      "llama_new_context_with_model: n_batch    = 32\n",
      "llama_new_context_with_model: n_ubatch   = 32\n",
      "llama_new_context_with_model: flash_attn = 0\n",
      "llama_new_context_with_model: freq_base  = 10000.0\n",
      "llama_new_context_with_model: freq_scale = 1\n",
      "llama_kv_cache_init:        CPU KV buffer size =  1536.00 MiB\n",
      "llama_new_context_with_model: KV self size  = 1536.00 MiB, K (f16):  768.00 MiB, V (f16):  768.00 MiB\n",
      "llama_new_context_with_model:        CPU  output buffer size =     0.12 MiB\n",
      "llama_new_context_with_model:        CPU compute buffer size =    18.75 MiB\n",
      "llama_new_context_with_model: graph nodes  = 1286\n",
      "llama_new_context_with_model: graph splits = 1\n",
      "AVX = 1 | AVX_VNNI = 0 | AVX2 = 1 | AVX512 = 0 | AVX512_VBMI = 0 | AVX512_VNNI = 0 | AVX512_BF16 = 0 | FMA = 1 | NEON = 0 | SVE = 0 | ARM_FMA = 0 | F16C = 1 | FP16_VA = 0 | WASM_SIMD = 0 | BLAS = 0 | SSE3 = 1 | SSSE3 = 1 | VSX = 0 | MATMUL_INT8 = 0 | LLAMAFILE = 1 | \n",
      "Model metadata: {'tokenizer.chat_template': \"{{ bos_token }}{% for message in messages %}{% if (message['role'] == 'user') %}{{'<|user|>' + '\\n' + message['content'] + '<|end|>' + '\\n' + '<|assistant|>' + '\\n'}}{% elif (message['role'] == 'assistant') %}{{message['content'] + '<|end|>' + '\\n'}}{% endif %}{% endfor %}\", 'tokenizer.ggml.add_eos_token': 'false', 'tokenizer.ggml.add_bos_token': 'true', 'tokenizer.ggml.padding_token_id': '32000', 'tokenizer.ggml.eos_token_id': '32000', 'tokenizer.ggml.bos_token_id': '1', 'general.architecture': 'phi3', 'phi3.context_length': '4096', 'phi3.attention.head_count_kv': '32', 'general.name': 'Phi3', 'tokenizer.ggml.pre': 'default', 'phi3.embedding_length': '3072', 'tokenizer.ggml.unknown_token_id': '0', 'phi3.feed_forward_length': '8192', 'phi3.attention.layer_norm_rms_epsilon': '0.000010', 'phi3.block_count': '32', 'phi3.attention.head_count': '32', 'phi3.rope.dimension_count': '96', 'general.quantization_version': '2', 'tokenizer.ggml.model': 'llama', 'general.file_type': '15'}\n",
      "Available chat formats from metadata: chat_template.default\n",
      "Using gguf chat template: {{ bos_token }}{% for message in messages %}{% if (message['role'] == 'user') %}{{'<|user|>' + '\n",
      "' + message['content'] + '<|end|>' + '\n",
      "' + '<|assistant|>' + '\n",
      "'}}{% elif (message['role'] == 'assistant') %}{{message['content'] + '<|end|>' + '\n",
      "'}}{% endif %}{% endfor %}\n",
      "Using chat eos_token: <|endoftext|>\n",
      "Using chat bos_token: <s>\n",
      "/home/vatsal-patel/anaconda3/envs/unsloth_env/lib/python3.10/site-packages/langchain_core/_api/deprecation.py:139: LangChainDeprecationWarning: The function `initialize_agent` was deprecated in LangChain 0.1.0 and will be removed in 0.3.0. Use Use new agent constructor methods like create_react_agent, create_json_agent, create_structured_chat_agent, etc. instead.\n",
      "  warn_deprecated(\n"
     ]
    }
   ],
   "source": [
    "\n",
    "# Load Llama.cpp Model\n",
    "llm = LlamaCpp(model_path=\"../models/Phi-3-mini-4k-instruct-gguf/Phi-3-mini-4k-instruct-q4.gguf\",n_ctx=4096,n_gpu_layers=-1)  \n",
    "\n",
    "# Tools (Include both Weather and Forecast Tools)\n",
    "tools = [weather_tool, forecast_tool]\n",
    "\n",
    "# Initialize Agent\n",
    "agent = initialize_agent(tools, llm, agent=\"zero-shot-react-description\", verbose=True) \n"
   ]
  },
  {
   "cell_type": "code",
   "execution_count": 8,
   "id": "08740dcb-6e1e-4d3c-a718-fd0ed24aba14",
   "metadata": {},
   "outputs": [
    {
     "name": "stderr",
     "output_type": "stream",
     "text": [
      "/home/vatsal-patel/anaconda3/envs/unsloth_env/lib/python3.10/site-packages/langchain_core/_api/deprecation.py:139: LangChainDeprecationWarning: The method `Chain.run` was deprecated in langchain 0.1.0 and will be removed in 0.3.0. Use invoke instead.\n",
      "  warn_deprecated(\n"
     ]
    },
    {
     "name": "stdout",
     "output_type": "stream",
     "text": [
      "\n",
      "\n",
      "\u001b[1m> Entering new AgentExecutor chain...\u001b[0m\n"
     ]
    },
    {
     "name": "stderr",
     "output_type": "stream",
     "text": [
      "\n",
      "llama_print_timings:        load time =     153.49 ms\n",
      "llama_print_timings:      sample time =       4.99 ms /    35 runs   (    0.14 ms per token,  7012.62 tokens per second)\n",
      "llama_print_timings: prompt eval time =    5489.27 ms /   252 tokens (   21.78 ms per token,    45.91 tokens per second)\n",
      "llama_print_timings:        eval time =    2048.11 ms /    34 runs   (   60.24 ms per token,    16.60 tokens per second)\n",
      "llama_print_timings:       total time =    7563.22 ms /   286 tokens\n"
     ]
    },
    {
     "name": "stdout",
     "output_type": "stream",
     "text": [
      "\u001b[32;1m\u001b[1;3m I need to get the weather forecast for tomorrow in Kalyani.\n",
      "Action: ForecastLookup\n",
      "Action Input: Kalyani\u001b[0m\n",
      "Observation: \u001b[33;1m\u001b[1;3m{'2024-07-05': {'00:00:00': {'temperature': 27.19, 'feels_like': 30.71, 'temp_min': 27.19, 'temp_max': 27.19, 'pressure': 1001, 'humidity': 85, 'weather': 'overcast clouds', 'icon': '04d', 'wind_speed': 3.1, 'wind_deg': 152, 'visibility': 10000, 'pop': 0.14, 'rain': 0, 'clouds': 100}, '03:00:00': {'temperature': 31.54, 'feels_like': 36.59, 'temp_min': 31.54, 'temp_max': 31.54, 'pressure': 1002, 'humidity': 62, 'weather': 'overcast clouds', 'icon': '04d', 'wind_speed': 3.69, 'wind_deg': 203, 'visibility': 10000, 'pop': 0.5, 'rain': 0, 'clouds': 100}, '06:00:00': {'temperature': 34.87, 'feels_like': 40.37, 'temp_min': 34.87, 'temp_max': 34.87, 'pressure': 1000, 'humidity': 50, 'weather': 'overcast clouds', 'icon': '04d', 'wind_speed': 3.59, 'wind_deg': 217, 'visibility': 10000, 'pop': 0.5, 'rain': 0, 'clouds': 97}, '09:00:00': {'temperature': 33.83, 'feels_like': 39.77, 'temp_min': 33.83, 'temp_max': 33.83, 'pressure': 998, 'humidity': 55, 'weather': 'light rain', 'icon': '10d', 'wind_speed': 2.42, 'wind_deg': 211, 'visibility': 10000, 'pop': 0.86, 'rain': 0.31, 'clouds': 100}, '12:00:00': {'temperature': 31.17, 'feels_like': 37.15, 'temp_min': 31.17, 'temp_max': 31.17, 'pressure': 998, 'humidity': 67, 'weather': 'light rain', 'icon': '10d', 'wind_speed': 4.29, 'wind_deg': 181, 'visibility': 10000, 'pop': 0.62, 'rain': 0.42, 'clouds': 100}, '15:00:00': {'temperature': 29.61, 'feels_like': 34.55, 'temp_min': 29.61, 'temp_max': 29.61, 'pressure': 1000, 'humidity': 72, 'weather': 'overcast clouds', 'icon': '04n', 'wind_speed': 4.67, 'wind_deg': 168, 'visibility': 10000, 'pop': 0.26, 'rain': 0, 'clouds': 100}, '18:00:00': {'temperature': 28.88, 'feels_like': 33.79, 'temp_min': 28.88, 'temp_max': 28.88, 'pressure': 1000, 'humidity': 77, 'weather': 'overcast clouds', 'icon': '04n', 'wind_speed': 4.06, 'wind_deg': 159, 'visibility': 10000, 'pop': 0.22, 'rain': 0, 'clouds': 100}, '21:00:00': {'temperature': 28.59, 'feels_like': 33.62, 'temp_min': 28.59, 'temp_max': 28.59, 'pressure': 998, 'humidity': 80, 'weather': 'light rain', 'icon': '10n', 'wind_speed': 3.79, 'wind_deg': 167, 'visibility': 10000, 'pop': 0.27, 'rain': 0.11, 'clouds': 100}}}\u001b[0m\n",
      "Thought:"
     ]
    },
    {
     "name": "stderr",
     "output_type": "stream",
     "text": [
      "Llama.generate: prefix-match hit\n",
      "\n",
      "llama_print_timings:        load time =     153.49 ms\n",
      "llama_print_timings:      sample time =      23.80 ms /   149 runs   (    0.16 ms per token,  6260.50 tokens per second)\n",
      "llama_print_timings: prompt eval time =   30400.06 ms /  1208 tokens (   25.17 ms per token,    39.74 tokens per second)\n",
      "llama_print_timings:        eval time =   11294.11 ms /   148 runs   (   76.31 ms per token,    13.10 tokens per second)\n",
      "llama_print_timings:       total time =   41830.43 ms /  1356 tokens\n"
     ]
    },
    {
     "name": "stdout",
     "output_type": "stream",
     "text": [
      "\u001b[32;1m\u001b[1;3m I now know the final answer\n",
      "Final Answer: The forecast for tomorrow in Kalyani is overcast clouds with a possibility of light rain during the daytime. Temperatures will range from lows in the mid-20s to highs around 35 degrees Celsius. Wind speeds are moderate, and visibility remains excellent throughout the day.\n",
      "\n",
      "Answer: The forecast for tomorrow in Kalyani is overcast clouds with a possibility of light rain during the daytime. Temperatures will range from lows in the mid-20s to highs around 35 degrees Celsius. Wind speeds are moderate, and visibility remains excellent throughout the day.\u001b[0m\n",
      "\n",
      "\u001b[1m> Finished chain.\u001b[0m\n",
      "The forecast for tomorrow in Kalyani is overcast clouds with a possibility of light rain during the daytime. Temperatures will range from lows in the mid-20s to highs around 35 degrees Celsius. Wind speeds are moderate, and visibility remains excellent throughout the day.\n",
      "\n",
      "Answer: The forecast for tomorrow in Kalyani is overcast clouds with a possibility of light rain during the daytime. Temperatures will range from lows in the mid-20s to highs around 35 degrees Celsius. Wind speeds are moderate, and visibility remains excellent throughout the day.\n"
     ]
    }
   ],
   "source": [
    "print(agent.run(\"What's the forecast for tomorrow in Kalyani?\")) "
   ]
  },
  {
   "cell_type": "code",
   "execution_count": 9,
   "id": "f9c57bf9-87df-4aea-a078-f771fe70c1f6",
   "metadata": {},
   "outputs": [
    {
     "name": "stderr",
     "output_type": "stream",
     "text": [
      "Llama.generate: prefix-match hit\n"
     ]
    },
    {
     "name": "stdout",
     "output_type": "stream",
     "text": [
      "\n",
      "\n",
      "\u001b[1m> Entering new AgentExecutor chain...\u001b[0m\n"
     ]
    },
    {
     "name": "stderr",
     "output_type": "stream",
     "text": [
      "\n",
      "llama_print_timings:        load time =     153.49 ms\n",
      "llama_print_timings:      sample time =       5.25 ms /    33 runs   (    0.16 ms per token,  6285.71 tokens per second)\n",
      "llama_print_timings: prompt eval time =     410.24 ms /    15 tokens (   27.35 ms per token,    36.56 tokens per second)\n",
      "llama_print_timings:        eval time =    2053.39 ms /    32 runs   (   64.17 ms per token,    15.58 tokens per second)\n",
      "llama_print_timings:       total time =    2486.40 ms /    47 tokens\n"
     ]
    },
    {
     "name": "stdout",
     "output_type": "stream",
     "text": [
      "\u001b[32;1m\u001b[1;3m I need to find out today's weather for Kalyani.\n",
      "Action: WeatherLookup\n",
      "Action Input: Kalyani\u001b[0m\n",
      "Observation: \u001b[36;1m\u001b[1;3m{\n",
      "  \"coordinates\": {\n",
      "    \"lon\": 88.4833,\n",
      "    \"lat\": 22.9833\n",
      "  },\n",
      "  \"weather\": {\n",
      "    \"id\": 804,\n",
      "    \"main\": \"Clouds\",\n",
      "    \"description\": \"overcast clouds\",\n",
      "    \"icon\": \"04n\"\n",
      "  },\n",
      "  \"temperature\": {\n",
      "    \"current\": 26.95,\n",
      "    \"feels_like\": 30.39,\n",
      "    \"min\": 26.95,\n",
      "    \"max\": 26.95\n",
      "  },\n",
      "  \"pressure\": {\n",
      "    \"sea_level\": 1001,\n",
      "    \"ground_level\": 1000\n",
      "  },\n",
      "  \"humidity\": 88,\n",
      "  \"visibility\": 10000,\n",
      "  \"wind\": {\n",
      "    \"speed\": 3.42,\n",
      "    \"deg\": 204,\n",
      "    \"gust\": 6.67\n",
      "  },\n",
      "  \"clouds\": {\n",
      "    \"all\": 100\n",
      "  },\n",
      "  \"rain\": {},\n",
      "  \"dt\": 1720031923,\n",
      "  \"sys\": {\n",
      "    \"type\": 1,\n",
      "    \"id\": 9114,\n",
      "    \"country\": \"IN\",\n",
      "    \"sunrise\": 1720049108,\n",
      "    \"sunset\": 1720097730\n",
      "  },\n",
      "  \"timezone\": 19800,\n",
      "  \"id\": 1268293,\n",
      "  \"name\": \"Kalyani\",\n",
      "  \"cod\": 200\n",
      "}\u001b[0m\n",
      "Thought:"
     ]
    },
    {
     "name": "stderr",
     "output_type": "stream",
     "text": [
      "Llama.generate: prefix-match hit\n",
      "\n",
      "llama_print_timings:        load time =     153.49 ms\n",
      "llama_print_timings:      sample time =      23.48 ms /   144 runs   (    0.16 ms per token,  6131.83 tokens per second)\n",
      "llama_print_timings: prompt eval time =   10474.10 ms /   414 tokens (   25.30 ms per token,    39.53 tokens per second)\n",
      "llama_print_timings:        eval time =    9721.62 ms /   143 runs   (   67.98 ms per token,    14.71 tokens per second)\n",
      "llama_print_timings:       total time =   20306.78 ms /   557 tokens\n"
     ]
    },
    {
     "name": "stdout",
     "output_type": "stream",
     "text": [
      "\u001b[32;1m\u001b[1;3m I now know the current weather in Kalyani. It's overcast with a temperature of approximately 27 degrees Celsius and no rain reported. The pressure is around 1001 hPa, humidity is at 88%, wind speed is about 3.4 km/h from the south-west direction.\n",
      "Final Answer: The current weather in Kalyani is overcast clouds with a temperature of approximately 27 degrees Celsius and no rain reported. The pressure is around 1001 hPa, humidity is at 88%, wind speed is about 3.4 km/h from the south-west direction.\u001b[0m\n",
      "\n",
      "\u001b[1m> Finished chain.\u001b[0m\n",
      "The current weather in Kalyani is overcast clouds with a temperature of approximately 27 degrees Celsius and no rain reported. The pressure is around 1001 hPa, humidity is at 88%, wind speed is about 3.4 km/h from the south-west direction.\n"
     ]
    }
   ],
   "source": [
    "# Example Usage\n",
    "print(agent.run(\"Can you tell me current weather in Kalyani?\")) "
   ]
  },
  {
   "cell_type": "code",
   "execution_count": null,
   "id": "17b1cf6c-15d2-4730-9c81-f277a88b8011",
   "metadata": {},
   "outputs": [],
   "source": []
  }
 ],
 "metadata": {
  "kernelspec": {
   "display_name": "Python (base)",
   "language": "python",
   "name": "base"
  },
  "language_info": {
   "codemirror_mode": {
    "name": "ipython",
    "version": 3
   },
   "file_extension": ".py",
   "mimetype": "text/x-python",
   "name": "python",
   "nbconvert_exporter": "python",
   "pygments_lexer": "ipython3",
   "version": "3.11.7"
  }
 },
 "nbformat": 4,
 "nbformat_minor": 5
}
