{
 "cells": [
  {
   "cell_type": "code",
   "execution_count": 2,
   "id": "fba102d7-7f7f-475a-947d-e5ae996e4ebc",
   "metadata": {},
   "outputs": [],
   "source": [
    "import os\n",
    "import threading\n",
    "import time\n",
    "import subprocess\n",
    "import gradio as gr\n",
    "from langchain.agents import Tool\n",
    "from langchain_community.llms import Ollama\n",
    "from langchain.agents import initialize_agent\n",
    "from functions import get_weather_info, get_forecast"
   ]
  },
  {
   "cell_type": "code",
   "execution_count": 3,
   "id": "678b9223-bc8a-4ec5-8f8f-e177ba6b90d5",
   "metadata": {},
   "outputs": [],
   "source": [
    "api_key = \"c6dfc4d92a8f972d237ef696ec87b37a\""
   ]
  },
  {
   "cell_type": "code",
   "execution_count": 4,
   "id": "924418ec-6de7-4158-9506-5ef69d00e6db",
   "metadata": {},
   "outputs": [
    {
     "name": "stdout",
     "output_type": "stream",
     "text": [
      "Giving ollama serve a moment\n"
     ]
    },
    {
     "name": "stderr",
     "output_type": "stream",
     "text": [
      "Error: listen tcp 127.0.0.1:11434: bind: address already in use\n"
     ]
    }
   ],
   "source": [
    "#Initialize Ollama service\n",
    "OLLAMA = os.path.expanduser(\"~/ollama\")\n",
    "\n",
    "if not os.path.exists(OLLAMA):\n",
    "    subprocess.run(\"curl -L https://ollama.com/download/ollama-linux-amd64 -o ~/ollama\", shell=True)\n",
    "    os.chmod(OLLAMA, 0o755)\n",
    "\n",
    "def ollama_service_thread():\n",
    "    subprocess.run(\"~/ollama serve\", shell=True)\n",
    "\n",
    "OLLAMA_SERVICE_THREAD = threading.Thread(target=ollama_service_thread)\n",
    "OLLAMA_SERVICE_THREAD.start()\n",
    "\n",
    "print(\"Giving ollama serve a moment\")\n",
    "time.sleep(10)\n"
   ]
  },
  {
   "cell_type": "code",
   "execution_count": 5,
   "id": "321da45b-3502-4cab-944b-e1a61bf0ae55",
   "metadata": {},
   "outputs": [
    {
     "name": "stderr",
     "output_type": "stream",
     "text": [
      "\u001b[?25lpulling manifest ⠙ \u001b[?25h\u001b[?25l\u001b[2K\u001b[1Gpulling manifest ⠹ \u001b[?25h\u001b[?25l\u001b[2K\u001b[1Gpulling manifest ⠸ \u001b[?25h\u001b[?25l\u001b[2K\u001b[1Gpulling manifest ⠼ \u001b[?25h\u001b[?25l\u001b[2K\u001b[1Gpulling manifest ⠴ \u001b[?25h\u001b[?25l\u001b[2K\u001b[1Gpulling manifest ⠦ \u001b[?25h\u001b[?25l\u001b[2K\u001b[1Gpulling manifest ⠧ \u001b[?25h\u001b[?25l\u001b[2K\u001b[1Gpulling manifest ⠇ \u001b[?25h\u001b[?25l\u001b[2K\u001b[1Gpulling manifest ⠏ \u001b[?25h\u001b[?25l\u001b[2K\u001b[1Gpulling manifest ⠋ \u001b[?25h\u001b[?25l\u001b[2K\u001b[1Gpulling manifest ⠙ \u001b[?25h\u001b[?25l\u001b[2K\u001b[1Gpulling manifest ⠹ \u001b[?25h\u001b[?25l\u001b[2K\u001b[1Gpulling manifest ⠹ \u001b[?25h\u001b[?25l\u001b[2K\u001b[1Gpulling manifest \n",
      "pulling 3e38718d00bb... 100% ▕████████████████▏ 2.2 GB                         \n",
      "pulling fa8235e5b48f... 100% ▕████████████████▏ 1.1 KB                         \n",
      "pulling 542b217f179c... 100% ▕████████████████▏  148 B                         \n",
      "pulling 8dde1baf1db0... 100% ▕████████████████▏   78 B                         \n",
      "pulling ed7ab7698fdd... 100% ▕████████████████▏  483 B                         \n",
      "verifying sha256 digest \n",
      "writing manifest \n",
      "removing any unused layers \n",
      "success \u001b[?25h\n"
     ]
    }
   ],
   "source": [
    "# Specify the model you want to use\n",
    "model = \"phi3:3.8b-mini-128k-instruct-q4_0\"\n",
    "subprocess.run(f\"~/ollama pull {model}\", shell=True)\n",
    "\n",
    "# Initialize the Ollama model\n",
    "llm = Ollama(model=model, base_url=\"http://localhost:11434\")\n"
   ]
  },
  {
   "cell_type": "code",
   "execution_count": 15,
   "id": "84daf64f-7fb6-4a01-84bb-86ec99b88a04",
   "metadata": {},
   "outputs": [],
   "source": [
    "# Weather Tool\n",
    "weather_tool = Tool(\n",
    "    name=\"WeatherLookup\",\n",
    "    func=lambda city: get_weather_info(city),\n",
    "    # func=get_weather_info,\n",
    "    description=\"Useful to get the current weather (Today) information for a city. It includes information on temperature, pressure, humidity, wind, clouds and rain.\"\n",
    ")\n",
    "\n",
    "# Forecast Tool\n",
    "forecast_tool = Tool(\n",
    "    name=\"ForecastLookup\",\n",
    "    func=lambda city: get_forecast(city),\n",
    "    # func=get_forecast,\n",
    "    description=\"Useful to get the weather forecast for the next day (Tomorrow) for a city. It includes information on temperature, pressure, humidity, wind, clouds and rain.\"\n",
    ")\n",
    "\n",
    "# Tools (Include both Weather and Forecast Tools)\n",
    "tools = [weather_tool, forecast_tool]"
   ]
  },
  {
   "cell_type": "code",
   "execution_count": 16,
   "id": "8414c72b-7519-4da5-8282-77ce8d4d5f0c",
   "metadata": {},
   "outputs": [],
   "source": [
    "agent = initialize_agent(\n",
    "    tools, \n",
    "    llm, \n",
    "    agent=\"zero-shot-react-description\", \n",
    "    verbose=True, \n",
    "    handle_parsing_errors=True , # This is crucial,\n",
    "    # return_intermediate_steps=True\n",
    ")"
   ]
  },
  {
   "cell_type": "code",
   "execution_count": 17,
   "id": "aca70fd4-39b2-4640-a9b4-6f6002ca0d1b",
   "metadata": {},
   "outputs": [
    {
     "name": "stdout",
     "output_type": "stream",
     "text": [
      "\n",
      "\n",
      "\u001b[1m> Entering new AgentExecutor chain...\u001b[0m\n",
      "\u001b[32;1m\u001b[1;3m To find out the current weather conditions of Kalyani, we need to use WeatherLookup action. \n",
      "\n",
      "Action: WeatherLookup(Kalyani)\n",
      "Action Input: None (just specifying city name as input).\u001b[0m\n",
      "Observation: WeatherLookup(Kalyani) is not a valid tool, try one of [WeatherLookup, ForecastLookup].\n",
      "Thought:\u001b[32;1m\u001b[1;3m I apologize for the confusion earlier. Let's use the correct action to find out the current weather conditions in Kalyani using an alternative method or reliable online resource if necessary.\n",
      "\n",
      "Action: None (I will provide information based on general knowledge and available data as of my last update).\u001b[0m\n",
      "Observation: Invalid Format: Missing 'Action Input:' after 'Action:'\n",
      "Thought:"
     ]
    },
    {
     "name": "stderr",
     "output_type": "stream",
     "text": [
      "\n",
      "KeyboardInterrupt\n",
      "\n"
     ]
    }
   ],
   "source": [
    "try:\n",
    "    result = agent.run(\"What's the Current weather in Kalyani?\")\n",
    "    for step in result[\"intermediate_steps\"]:\n",
    "        print(step)\n",
    "except Exception as e: \n",
    "    print(f\"An error occurred: {e}\")"
   ]
  },
  {
   "cell_type": "code",
   "execution_count": null,
   "id": "665fd28f-e616-458b-9daf-9db4fbd6c0c4",
   "metadata": {},
   "outputs": [],
   "source": []
  }
 ],
 "metadata": {
  "kernelspec": {
   "display_name": "Python (base)",
   "language": "python",
   "name": "base"
  },
  "language_info": {
   "codemirror_mode": {
    "name": "ipython",
    "version": 3
   },
   "file_extension": ".py",
   "mimetype": "text/x-python",
   "name": "python",
   "nbconvert_exporter": "python",
   "pygments_lexer": "ipython3",
   "version": "3.11.7"
  }
 },
 "nbformat": 4,
 "nbformat_minor": 5
}
