import os
import threading
import time
import subprocess
import gradio as gr
from langchain.agents import Tool
from langchain_community.llms import Ollama
from langchain.agents import initialize_agent
from functions import get_weather_info, get_forecast


api_key = "c6dfc4d92a8f972d237ef696ec87b37a"


#Initialize Ollama service
OLLAMA = os.path.expanduser("~/ollama")

if not os.path.exists(OLLAMA):
    subprocess.run("curl -L https://ollama.com/download/ollama-linux-amd64 -o ~/ollama", shell=True)
    os.chmod(OLLAMA, 0o755)

def ollama_service_thread():
    subprocess.run("~/ollama serve", shell=True)

OLLAMA_SERVICE_THREAD = threading.Thread(target=ollama_service_thread)
OLLAMA_SERVICE_THREAD.start()

print("Giving ollama serve a moment")
time.sleep(10)



# Specify the model you want to use
model = "phi3:3.8b-mini-128k-instruct-q4_0"
subprocess.run(f"~/ollama pull {model}", shell=True)

# Initialize the Ollama model
llm = Ollama(model=model, base_url="http://localhost:11434")



# Weather Tool
weather_tool = Tool(
    name="WeatherLookup",
    func=lambda city: get_weather_info(city),
    # func=get_weather_info,
    description="Useful to get the current weather (Today) information for a city. It includes information on temperature, pressure, humidity, wind, clouds and rain."
)

# Forecast Tool
forecast_tool = Tool(
    name="ForecastLookup",
    func=lambda city: get_forecast(city),
    # func=get_forecast,
    description="Useful to get the weather forecast for the next day (Tomorrow) for a city. It includes information on temperature, pressure, humidity, wind, clouds and rain."
)

# Tools (Include both Weather and Forecast Tools)
tools = [weather_tool, forecast_tool]


agent = initialize_agent(
    tools, 
    llm, 
    agent="zero-shot-react-description", 
    verbose=True, 
    handle_parsing_errors=True , # This is crucial,
    # return_intermediate_steps=True
)


try:
    result = agent.run("What's the Current weather in Kalyani?")
    for step in result["intermediate_steps"]:
        print(step)
except Exception as e: 
    print(f"An error occurred: {e}")



