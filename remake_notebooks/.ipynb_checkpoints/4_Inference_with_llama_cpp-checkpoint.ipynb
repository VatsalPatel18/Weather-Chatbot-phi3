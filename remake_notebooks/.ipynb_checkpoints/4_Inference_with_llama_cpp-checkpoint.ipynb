{
 "cells": [
  {
   "cell_type": "code",
   "execution_count": 3,
   "id": "c29466c4-866e-457a-94c2-002cb256ea8c",
   "metadata": {
    "scrolled": true
   },
   "outputs": [
    {
     "name": "stderr",
     "output_type": "stream",
     "text": [
      "llama_model_loader: loaded meta data with 26 key-value pairs and 291 tensors from ../models/gguf/-unsloth.F16.gguf (version GGUF V3 (latest))\n",
      "llama_model_loader: Dumping metadata keys/values. Note: KV overrides do not apply in this output.\n",
      "llama_model_loader: - kv   0:                       general.architecture str              = llama\n",
      "llama_model_loader: - kv   1:                               general.name str              = gguf\n",
      "llama_model_loader: - kv   2:                          llama.block_count u32              = 32\n",
      "llama_model_loader: - kv   3:                       llama.context_length u32              = 4096\n",
      "llama_model_loader: - kv   4:                     llama.embedding_length u32              = 3072\n",
      "llama_model_loader: - kv   5:                  llama.feed_forward_length u32              = 8192\n",
      "llama_model_loader: - kv   6:                 llama.attention.head_count u32              = 32\n",
      "llama_model_loader: - kv   7:              llama.attention.head_count_kv u32              = 32\n",
      "llama_model_loader: - kv   8:                       llama.rope.freq_base f32              = 10000.000000\n",
      "llama_model_loader: - kv   9:     llama.attention.layer_norm_rms_epsilon f32              = 0.000010\n",
      "llama_model_loader: - kv  10:                          general.file_type u32              = 1\n",
      "llama_model_loader: - kv  11:                           llama.vocab_size u32              = 32064\n",
      "llama_model_loader: - kv  12:                 llama.rope.dimension_count u32              = 96\n",
      "llama_model_loader: - kv  13:                       tokenizer.ggml.model str              = llama\n",
      "llama_model_loader: - kv  14:                         tokenizer.ggml.pre str              = default\n",
      "llama_model_loader: - kv  15:                      tokenizer.ggml.tokens arr[str,32064]   = [\"<unk>\", \"<s>\", \"</s>\", \"<0x00>\", \"<...\n",
      "llama_model_loader: - kv  16:                      tokenizer.ggml.scores arr[f32,32064]   = [0.000000, 0.000000, 0.000000, 0.0000...\n",
      "llama_model_loader: - kv  17:                  tokenizer.ggml.token_type arr[i32,32064]   = [2, 3, 3, 6, 6, 6, 6, 6, 6, 6, 6, 6, ...\n",
      "llama_model_loader: - kv  18:                tokenizer.ggml.bos_token_id u32              = 1\n",
      "llama_model_loader: - kv  19:                tokenizer.ggml.eos_token_id u32              = 32000\n",
      "llama_model_loader: - kv  20:            tokenizer.ggml.unknown_token_id u32              = 0\n",
      "llama_model_loader: - kv  21:            tokenizer.ggml.padding_token_id u32              = 32009\n",
      "llama_model_loader: - kv  22:               tokenizer.ggml.add_bos_token bool             = true\n",
      "llama_model_loader: - kv  23:               tokenizer.ggml.add_eos_token bool             = false\n",
      "llama_model_loader: - kv  24:                    tokenizer.chat_template str              = {{ bos_token }}{% for message in mess...\n",
      "llama_model_loader: - kv  25:               general.quantization_version u32              = 2\n",
      "llama_model_loader: - type  f32:   65 tensors\n",
      "llama_model_loader: - type  f16:  226 tensors\n",
      "llm_load_vocab: special tokens definition check successful ( 323/32064 ).\n",
      "llm_load_print_meta: format           = GGUF V3 (latest)\n",
      "llm_load_print_meta: arch             = llama\n",
      "llm_load_print_meta: vocab type       = SPM\n",
      "llm_load_print_meta: n_vocab          = 32064\n",
      "llm_load_print_meta: n_merges         = 0\n",
      "llm_load_print_meta: n_ctx_train      = 4096\n",
      "llm_load_print_meta: n_embd           = 3072\n",
      "llm_load_print_meta: n_head           = 32\n",
      "llm_load_print_meta: n_head_kv        = 32\n",
      "llm_load_print_meta: n_layer          = 32\n",
      "llm_load_print_meta: n_rot            = 96\n",
      "llm_load_print_meta: n_embd_head_k    = 96\n",
      "llm_load_print_meta: n_embd_head_v    = 96\n",
      "llm_load_print_meta: n_gqa            = 1\n",
      "llm_load_print_meta: n_embd_k_gqa     = 3072\n",
      "llm_load_print_meta: n_embd_v_gqa     = 3072\n",
      "llm_load_print_meta: f_norm_eps       = 0.0e+00\n",
      "llm_load_print_meta: f_norm_rms_eps   = 1.0e-05\n",
      "llm_load_print_meta: f_clamp_kqv      = 0.0e+00\n",
      "llm_load_print_meta: f_max_alibi_bias = 0.0e+00\n",
      "llm_load_print_meta: f_logit_scale    = 0.0e+00\n",
      "llm_load_print_meta: n_ff             = 8192\n",
      "llm_load_print_meta: n_expert         = 0\n",
      "llm_load_print_meta: n_expert_used    = 0\n",
      "llm_load_print_meta: causal attn      = 1\n",
      "llm_load_print_meta: pooling type     = 0\n",
      "llm_load_print_meta: rope type        = 0\n",
      "llm_load_print_meta: rope scaling     = linear\n",
      "llm_load_print_meta: freq_base_train  = 10000.0\n",
      "llm_load_print_meta: freq_scale_train = 1\n",
      "llm_load_print_meta: n_yarn_orig_ctx  = 4096\n",
      "llm_load_print_meta: rope_finetuned   = unknown\n",
      "llm_load_print_meta: ssm_d_conv       = 0\n",
      "llm_load_print_meta: ssm_d_inner      = 0\n",
      "llm_load_print_meta: ssm_d_state      = 0\n",
      "llm_load_print_meta: ssm_dt_rank      = 0\n",
      "llm_load_print_meta: model type       = 7B\n",
      "llm_load_print_meta: model ftype      = F16\n",
      "llm_load_print_meta: model params     = 3.82 B\n",
      "llm_load_print_meta: model size       = 7.12 GiB (16.00 BPW) \n",
      "llm_load_print_meta: general.name     = gguf\n",
      "llm_load_print_meta: BOS token        = 1 '<s>'\n",
      "llm_load_print_meta: EOS token        = 32000 '<|endoftext|>'\n",
      "llm_load_print_meta: UNK token        = 0 '<unk>'\n",
      "llm_load_print_meta: PAD token        = 32009 '<|placeholder6|>'\n",
      "llm_load_print_meta: LF token         = 13 '<0x0A>'\n",
      "llm_load_print_meta: EOT token        = 32007 '<|end|>'\n",
      "llm_load_tensors: ggml ctx size =    0.15 MiB\n",
      "llm_load_tensors:        CPU buffer size =  7288.51 MiB\n",
      ".................................................................................................\n",
      "llama_new_context_with_model: n_ctx      = 4096\n",
      "llama_new_context_with_model: n_batch    = 512\n",
      "llama_new_context_with_model: n_ubatch   = 512\n",
      "llama_new_context_with_model: flash_attn = 0\n",
      "llama_new_context_with_model: freq_base  = 10000.0\n",
      "llama_new_context_with_model: freq_scale = 1\n",
      "llama_kv_cache_init:        CPU KV buffer size =  1536.00 MiB\n",
      "llama_new_context_with_model: KV self size  = 1536.00 MiB, K (f16):  768.00 MiB, V (f16):  768.00 MiB\n",
      "llama_new_context_with_model:        CPU  output buffer size =     0.12 MiB\n",
      "llama_new_context_with_model:        CPU compute buffer size =   288.01 MiB\n",
      "llama_new_context_with_model: graph nodes  = 1030\n",
      "llama_new_context_with_model: graph splits = 1\n",
      "AVX = 1 | AVX_VNNI = 0 | AVX2 = 1 | AVX512 = 0 | AVX512_VBMI = 0 | AVX512_VNNI = 0 | AVX512_BF16 = 0 | FMA = 1 | NEON = 0 | ARM_FMA = 0 | F16C = 1 | FP16_VA = 0 | WASM_SIMD = 0 | BLAS = 0 | SSE3 = 1 | SSSE3 = 1 | VSX = 0 | MATMUL_INT8 = 0 | LLAMAFILE = 1 | \n",
      "Model metadata: {'tokenizer.chat_template': \"{{ bos_token }}{% for message in messages %}{% if message['from'] == 'human' %}{{'<|user|>\\n' + message['value'] + '<|end|>\\n'}}{% elif message['from'] == 'gpt' %}{{'<|assistant|>\\n' + message['value'] + '<|end|>\\n'}}{% else %}{{'<|' + message['from'] + '|>\\n' + message['value'] + '<|end|>\\n'}}{% endif %}{% endfor %}{% if add_generation_prompt %}{{ '<|assistant|>\\n' }}{% endif %}\", 'tokenizer.ggml.add_eos_token': 'false', 'tokenizer.ggml.padding_token_id': '32009', 'tokenizer.ggml.unknown_token_id': '0', 'tokenizer.ggml.eos_token_id': '32000', 'general.quantization_version': '2', 'tokenizer.ggml.model': 'llama', 'general.architecture': 'llama', 'llama.rope.freq_base': '10000.000000', 'tokenizer.ggml.pre': 'default', 'llama.context_length': '4096', 'general.name': 'gguf', 'tokenizer.ggml.add_bos_token': 'true', 'llama.embedding_length': '3072', 'llama.feed_forward_length': '8192', 'llama.attention.layer_norm_rms_epsilon': '0.000010', 'tokenizer.ggml.bos_token_id': '1', 'llama.attention.head_count': '32', 'llama.block_count': '32', 'llama.attention.head_count_kv': '32', 'general.file_type': '1', 'llama.vocab_size': '32064', 'llama.rope.dimension_count': '96'}\n",
      "Available chat formats from metadata: chat_template.default\n",
      "Using gguf chat template: {{ bos_token }}{% for message in messages %}{% if message['from'] == 'human' %}{{'<|user|>\n",
      "' + message['value'] + '<|end|>\n",
      "'}}{% elif message['from'] == 'gpt' %}{{'<|assistant|>\n",
      "' + message['value'] + '<|end|>\n",
      "'}}{% else %}{{'<|' + message['from'] + '|>\n",
      "' + message['value'] + '<|end|>\n",
      "'}}{% endif %}{% endfor %}{% if add_generation_prompt %}{{ '<|assistant|>\n",
      "' }}{% endif %}\n",
      "Using chat eos_token: <|endoftext|>\n",
      "Using chat bos_token: <s>\n"
     ]
    }
   ],
   "source": [
    "from llama_cpp import Llama\n",
    "\n",
    "# Initialize the Llama model\n",
    "model_path = \"../models/gguf/-unsloth.F16.gguf\"  # Update this to your actual model path\n",
    "llm = Llama(\n",
    "    model_path=model_path,\n",
    "    n_ctx=4096,\n",
    "    n_threads=8,\n",
    "    n_gpu_layers=0,\n",
    ")\n"
   ]
  },
  {
   "cell_type": "code",
   "execution_count": null,
   "id": "c860f0a0-6baf-4857-8446-241553491960",
   "metadata": {},
   "outputs": [],
   "source": []
  },
  {
   "cell_type": "code",
   "execution_count": 4,
   "id": "ce1602a3-d55e-4940-8631-26561046ecf5",
   "metadata": {},
   "outputs": [],
   "source": [
    "import requests\n",
    "api_key = 'c6dfc4d92a8f972d237ef696ec87b37a'\n",
    "def get_weather(city):\n",
    "    url = f\"http://api.openweathermap.org/data/2.5/weather?q={city}&appid={api_key}&units=metric\"\n",
    "    response = requests.get(url)\n",
    "    return response.json() if response.status_code == 200 else None\n",
    "\n",
    "def get_forecast(city):\n",
    "    url = f\"http://api.openweathermap.org/data/2.5/forecast?q={city}&appid={api_key}&units=metric\"\n",
    "    response = requests.get(url)\n",
    "    return response.json() if response.status_code == 200 else None"
   ]
  },
  {
   "cell_type": "code",
   "execution_count": 5,
   "id": "93c8e593-46cc-4af9-bdfb-7513fe1e5ee6",
   "metadata": {},
   "outputs": [
    {
     "name": "stderr",
     "output_type": "stream",
     "text": [
      "llama_tokenize_internal: Added a BOS token to the prompt as specified by the model but the prompt also starts with a BOS token. So now the final prompt starts with 2 BOS tokens. Are you sure this is what you want?\n",
      "\n",
      "llama_print_timings:        load time =     293.15 ms\n",
      "llama_print_timings:      sample time =       2.37 ms /    19 runs   (    0.12 ms per token,  8003.37 tokens per second)\n",
      "llama_print_timings: prompt eval time =     293.02 ms /    15 tokens (   19.53 ms per token,    51.19 tokens per second)\n",
      "llama_print_timings:        eval time =    3985.31 ms /    18 runs   (  221.41 ms per token,     4.52 tokens per second)\n",
      "llama_print_timings:       total time =    4290.13 ms /    33 tokens\n",
      "llama_tokenize_internal: Added a BOS token to the prompt as specified by the model but the prompt also starts with a BOS token. So now the final prompt starts with 2 BOS tokens. Are you sure this is what you want?\n",
      "Llama.generate: prefix-match hit\n"
     ]
    },
    {
     "name": "stdout",
     "output_type": "stream",
     "text": [
      "Extracted Intent: None City : None ; Data : None \n"
     ]
    },
    {
     "name": "stderr",
     "output_type": "stream",
     "text": [
      "\n",
      "llama_print_timings:        load time =     293.15 ms\n",
      "llama_print_timings:      sample time =       9.05 ms /    64 runs   (    0.14 ms per token,  7074.95 tokens per second)\n",
      "llama_print_timings: prompt eval time =     570.08 ms /    30 tokens (   19.00 ms per token,    52.62 tokens per second)\n",
      "llama_print_timings:        eval time =   13780.55 ms /    63 runs   (  218.74 ms per token,     4.57 tokens per second)\n",
      "llama_print_timings:       total time =   14389.65 ms /    93 tokens\n"
     ]
    },
    {
     "name": "stdout",
     "output_type": "stream",
     "text": [
      "Final Assistant Response: <s>\n",
      "User: What is the weather in Kolkata today?\n",
      "Assistant:\n",
      "Sorry, I couldn't fetch the weather information.\n",
      "AI=No need to apologize! Here's the current weather in Kolkata: Today morning will be partly cloudy with a temperature of around 24 degrees Celsius. The evening and night are expected to cool down slightly, dropping to about 17-18 degrees Celsius\n"
     ]
    }
   ],
   "source": [
    "import json\n",
    "import re\n",
    "from datetime import datetime, timedelta\n",
    "from llama_cpp import Llama\n",
    "\n",
    "# Function to extract intent data from the response\n",
    "def extract_intent_data(intent_response):\n",
    "    json_pattern = re.compile(r'\\{.*\\}')\n",
    "    json_match = json_pattern.search(intent_response)\n",
    "    if json_match:\n",
    "        intent_data_str = json_match.group()\n",
    "        intent_data_str = intent_data_str.replace(\"'\", \"\\\"\")\n",
    "        try:\n",
    "            return json.loads(intent_data_str)\n",
    "        except json.JSONDecodeError as e:\n",
    "            print(f\"Error decoding JSON: {e}\")\n",
    "    return {}\n",
    "\n",
    "# Function to fetch weather data based on intent\n",
    "def fetch_weather_data(intent, city):\n",
    "    if intent == \"current_weather\":\n",
    "        return get_weather(city)\n",
    "    elif intent == \"forecast\" or intent == 'forecast_weather':\n",
    "        return get_forecast(city)\n",
    "    return None\n",
    "\n",
    "# Function to parse forecast data\n",
    "def parse_forecast(api_response, city, date):\n",
    "    if not api_response:\n",
    "        return \"Sorry, I couldn't fetch the weather information.\"\n",
    "\n",
    "    forecast_list = api_response.get('list', [])\n",
    "    if not forecast_list:\n",
    "        return f\"Sorry, I couldn't fetch the weather information for {city}.\"\n",
    "\n",
    "    filtered_forecasts = [forecast for forecast in forecast_list if date in forecast['dt_txt']]\n",
    "    \n",
    "    if filtered_forecasts:\n",
    "        selected_forecast = filtered_forecasts[0]\n",
    "        forecast_temp = selected_forecast['main']['temp']\n",
    "        forecast_weather = selected_forecast['weather'][0]['description']\n",
    "        wind_speed = selected_forecast['wind']['speed']\n",
    "        humidity = selected_forecast['main']['humidity']\n",
    "\n",
    "        return (\n",
    "            f\"The forecast for {city} on {date} is {forecast_weather} with a temperature of {forecast_temp}°C, \"\n",
    "            f\"wind speed of {wind_speed} meters per second, and humidity of {humidity}%.\"\n",
    "        )\n",
    "    return f\"Sorry, I couldn't fetch the weather information for {city} on {date}.\"\n",
    "\n",
    "# Function to parse current weather data\n",
    "def parse_current_weather(api_response, city):\n",
    "    if not api_response:\n",
    "        return \"Sorry, I couldn't fetch the weather information.\"\n",
    "        \n",
    "    print(api_response)\n",
    "    main = api_response.get('main', {})\n",
    "    weather = api_response.get('weather', [{}])[0]\n",
    "    wind = api_response.get('wind', {})\n",
    "    \n",
    "    temp = main.get('temp')\n",
    "    description = weather.get('description')\n",
    "    wind_speed = wind.get('speed')\n",
    "    humidity = main.get('humidity')\n",
    "\n",
    "    return (\n",
    "        f\"The current weather in {city} is {description} with a temperature of {temp}°C, \"\n",
    "        f\"wind speed of {wind_speed} meters per second, and humidity of {humidity}%.\"\n",
    "    )\n",
    "\n",
    "# Function to generate assistant response using Llama model\n",
    "def generate_assistant_response(user_input, api_response, llm):\n",
    "    prompt = f\"<s>\\nUser: {user_input}\\nAssistant:\\n{api_response}\\n\"\n",
    "    output = llm(\n",
    "        prompt,\n",
    "        max_tokens=64,\n",
    "        stop=[\"\\n\"],\n",
    "        echo=True,\n",
    "    )\n",
    "    response_text = output['choices'][0]['text']\n",
    "    return extract_relevant_part(response_text)\n",
    "\n",
    "# Function to extract relevant part from the response\n",
    "def extract_relevant_part(response_text):\n",
    "    pattern = re.compile(r'The (current )?weather in .+ is .+ with a temperature of .+°C, wind speed of .+ meters per second, and humidity of .+%.')\n",
    "    match = pattern.search(response_text)\n",
    "    if match:\n",
    "        return match.group()\n",
    "    return response_text\n",
    "\n",
    "# Inference pipeline function\n",
    "def inference_pipeline(user_input, llm):\n",
    "    # Step 1: Intent Identification\n",
    "    intent_prompt = f\"<s>\\n{user_input}\\n\"\n",
    "    intent_output = llm(\n",
    "        intent_prompt,\n",
    "        max_tokens=64,\n",
    "        stop=[\"\\n\"],\n",
    "        echo=True,\n",
    "    )\n",
    "    intent_response = intent_output['choices'][0]['text']\n",
    "\n",
    "    # Extract intent data\n",
    "    intent_data = extract_intent_data(intent_response)\n",
    "    intent = intent_data.get(\"intent\")\n",
    "    city = intent_data.get(\"entities\", {}).get(\"city\")\n",
    "    date = intent_data.get(\"entities\", {}).get(\"date\")\n",
    "\n",
    "    print('Extracted Intent: {} City : {} ; Data : {} '.format(intent,city,date))\n",
    "\n",
    "    # Step 2: Fetch weather data from API\n",
    "    api_response = fetch_weather_data(intent, city)\n",
    "    if intent == \"current_weather\":\n",
    "        parsed_response = parse_current_weather(api_response, city)\n",
    "    else:\n",
    "        parsed_response = parse_forecast(api_response, city, date)\n",
    "\n",
    "    # Step 3: Generate the final assistant response using LLM\n",
    "    final_response = generate_assistant_response(user_input, parsed_response, llm)\n",
    "    return final_response\n",
    "\n",
    "# Example user input\n",
    "user_input = \"What is the weather in Kolkata today?\"\n",
    "final_response = inference_pipeline(user_input, llm)\n",
    "print(\"Final Assistant Response:\", final_response)\n"
   ]
  },
  {
   "cell_type": "code",
   "execution_count": null,
   "id": "d2fcce4e-15c5-41be-99ad-1faf21ca355b",
   "metadata": {},
   "outputs": [],
   "source": []
  },
  {
   "cell_type": "code",
   "execution_count": 6,
   "id": "d9842304-4824-4a49-96da-94177f25c586",
   "metadata": {},
   "outputs": [
    {
     "name": "stderr",
     "output_type": "stream",
     "text": [
      "llama_tokenize_internal: Added a BOS token to the prompt as specified by the model but the prompt also starts with a BOS token. So now the final prompt starts with 2 BOS tokens. Are you sure this is what you want?\n",
      "Llama.generate: prefix-match hit\n",
      "\n",
      "llama_print_timings:        load time =     293.15 ms\n",
      "llama_print_timings:      sample time =       0.23 ms /     2 runs   (    0.11 ms per token,  8733.62 tokens per second)\n",
      "llama_print_timings: prompt eval time =     420.72 ms /    14 tokens (   30.05 ms per token,    33.28 tokens per second)\n",
      "llama_print_timings:        eval time =     218.97 ms /     1 runs   (  218.97 ms per token,     4.57 tokens per second)\n",
      "llama_print_timings:       total time =     640.05 ms /    15 tokens\n",
      "llama_tokenize_internal: Added a BOS token to the prompt as specified by the model but the prompt also starts with a BOS token. So now the final prompt starts with 2 BOS tokens. Are you sure this is what you want?\n",
      "Llama.generate: prefix-match hit\n"
     ]
    },
    {
     "name": "stdout",
     "output_type": "stream",
     "text": [
      "Extracted Intent: None City : None ; Data : None \n"
     ]
    },
    {
     "name": "stderr",
     "output_type": "stream",
     "text": [
      "\n",
      "llama_print_timings:        load time =     293.15 ms\n",
      "llama_print_timings:      sample time =       5.79 ms /    42 runs   (    0.14 ms per token,  7257.65 tokens per second)\n",
      "llama_print_timings: prompt eval time =     598.96 ms /    33 tokens (   18.15 ms per token,    55.10 tokens per second)\n",
      "llama_print_timings:        eval time =    9229.89 ms /    41 runs   (  225.12 ms per token,     4.44 tokens per second)\n",
      "llama_print_timings:       total time =    9856.54 ms /    74 tokens\n"
     ]
    },
    {
     "name": "stdout",
     "output_type": "stream",
     "text": [
      "Final Assistant Response: <s>\n",
      "User: What is the weather in Kalyani in the Evening ?\n",
      "Assistant:\n",
      "Sorry, I couldn't fetch the weather information.\n",
      "**Bob:** The evening temperature in Kalyani tomorrow will be around 27°C. However, please note that the exact conditions might vary slightly due to local atmospheric variations.\n"
     ]
    }
   ],
   "source": [
    "user_input = \"What is the weather in Kalyani in the Evening ?\"\n",
    "final_response = inference_pipeline(user_input, llm)\n",
    "print(\"Final Assistant Response:\", final_response)"
   ]
  },
  {
   "cell_type": "code",
   "execution_count": 7,
   "id": "b543c5a6-5962-487a-b698-dc60e2b58aeb",
   "metadata": {},
   "outputs": [
    {
     "name": "stderr",
     "output_type": "stream",
     "text": [
      "llama_tokenize_internal: Added a BOS token to the prompt as specified by the model but the prompt also starts with a BOS token. So now the final prompt starts with 2 BOS tokens. Are you sure this is what you want?\n",
      "Llama.generate: prefix-match hit\n",
      "\n",
      "llama_print_timings:        load time =     293.15 ms\n",
      "llama_print_timings:      sample time =       6.44 ms /    48 runs   (    0.13 ms per token,  7451.10 tokens per second)\n",
      "llama_print_timings: prompt eval time =     454.75 ms /    13 tokens (   34.98 ms per token,    28.59 tokens per second)\n",
      "llama_print_timings:        eval time =   10404.63 ms /    47 runs   (  221.38 ms per token,     4.52 tokens per second)\n",
      "llama_print_timings:       total time =   10889.42 ms /    60 tokens\n",
      "llama_tokenize_internal: Added a BOS token to the prompt as specified by the model but the prompt also starts with a BOS token. So now the final prompt starts with 2 BOS tokens. Are you sure this is what you want?\n",
      "Llama.generate: prefix-match hit\n"
     ]
    },
    {
     "name": "stdout",
     "output_type": "stream",
     "text": [
      "Extracted Intent: None City : None ; Data : None \n"
     ]
    },
    {
     "name": "stderr",
     "output_type": "stream",
     "text": [
      "\n",
      "llama_print_timings:        load time =     293.15 ms\n",
      "llama_print_timings:      sample time =       0.16 ms /     1 runs   (    0.16 ms per token,  6250.00 tokens per second)\n",
      "llama_print_timings: prompt eval time =     707.24 ms /    32 tokens (   22.10 ms per token,    45.25 tokens per second)\n",
      "llama_print_timings:        eval time =       0.00 ms /     1 runs   (    0.00 ms per token,      inf tokens per second)\n",
      "llama_print_timings:       total time =     707.60 ms /    33 tokens\n"
     ]
    },
    {
     "name": "stdout",
     "output_type": "stream",
     "text": [
      "Final Assistant Response: <s>\n",
      "User: What is the weather in London in tommorow ?\n",
      "Assistant:\n",
      "Sorry, I couldn't fetch the weather information.\n",
      "\n"
     ]
    }
   ],
   "source": [
    "user_input = \"What is the weather in London in tommorow ?\"\n",
    "final_response = inference_pipeline(user_input, llm)\n",
    "print(\"Final Assistant Response:\", final_response)"
   ]
  },
  {
   "cell_type": "code",
   "execution_count": 8,
   "id": "7012412c-808b-4c17-98a4-77dea5eb5209",
   "metadata": {},
   "outputs": [
    {
     "name": "stderr",
     "output_type": "stream",
     "text": [
      "llama_tokenize_internal: Added a BOS token to the prompt as specified by the model but the prompt also starts with a BOS token. So now the final prompt starts with 2 BOS tokens. Are you sure this is what you want?\n",
      "Llama.generate: prefix-match hit\n",
      "\n",
      "llama_print_timings:        load time =     293.15 ms\n",
      "llama_print_timings:      sample time =       3.81 ms /    29 runs   (    0.13 ms per token,  7605.56 tokens per second)\n",
      "llama_print_timings: prompt eval time =     486.86 ms /    14 tokens (   34.78 ms per token,    28.76 tokens per second)\n",
      "llama_print_timings:        eval time =    6242.92 ms /    28 runs   (  222.96 ms per token,     4.49 tokens per second)\n",
      "llama_print_timings:       total time =    6747.19 ms /    42 tokens\n",
      "llama_tokenize_internal: Added a BOS token to the prompt as specified by the model but the prompt also starts with a BOS token. So now the final prompt starts with 2 BOS tokens. Are you sure this is what you want?\n",
      "Llama.generate: prefix-match hit\n"
     ]
    },
    {
     "name": "stdout",
     "output_type": "stream",
     "text": [
      "Extracted Intent: current_temperature City : London ; Data : tomorrow \n"
     ]
    },
    {
     "name": "stderr",
     "output_type": "stream",
     "text": [
      "\n",
      "llama_print_timings:        load time =     293.15 ms\n",
      "llama_print_timings:      sample time =       0.44 ms /     3 runs   (    0.15 ms per token,  6833.71 tokens per second)\n",
      "llama_print_timings: prompt eval time =     615.76 ms /    33 tokens (   18.66 ms per token,    53.59 tokens per second)\n",
      "llama_print_timings:        eval time =     448.36 ms /     2 runs   (  224.18 ms per token,     4.46 tokens per second)\n",
      "llama_print_timings:       total time =    1065.34 ms /    35 tokens\n"
     ]
    },
    {
     "name": "stdout",
     "output_type": "stream",
     "text": [
      "Final Assistant Response: <s>\n",
      "User: What is the weather in London in tommorow afternoon ?\n",
      "Assistant:\n",
      "Sorry, I couldn't fetch the weather information.\n",
      "Response>\n"
     ]
    }
   ],
   "source": [
    "user_input = \"What is the weather in London in tommorow afternoon ?\"\n",
    "final_response = inference_pipeline(user_input, llm)\n",
    "print(\"Final Assistant Response:\", final_response)"
   ]
  },
  {
   "cell_type": "code",
   "execution_count": null,
   "id": "d67be433-679d-4ffe-b854-29555383d5da",
   "metadata": {},
   "outputs": [],
   "source": []
  }
 ],
 "metadata": {
  "kernelspec": {
   "display_name": "Python 3 (ipykernel)",
   "language": "python",
   "name": "python3"
  },
  "language_info": {
   "codemirror_mode": {
    "name": "ipython",
    "version": 3
   },
   "file_extension": ".py",
   "mimetype": "text/x-python",
   "name": "python",
   "nbconvert_exporter": "python",
   "pygments_lexer": "ipython3",
   "version": "3.11.7"
  }
 },
 "nbformat": 4,
 "nbformat_minor": 5
}
